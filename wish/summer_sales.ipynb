{
 "cells": [
  {
   "cell_type": "code",
   "execution_count": 11,
   "metadata": {},
   "outputs": [
    {
     "data": {
      "text/plain": [
       "'C:\\\\Users\\\\dicarlom\\\\Desktop\\\\Martu\\\\Otros\\\\machine_learning\\\\ML'"
      ]
     },
     "execution_count": 11,
     "metadata": {},
     "output_type": "execute_result"
    }
   ],
   "source": [
    "import numpy as np\n",
    "import pandas as pd\n",
    "import os\n",
    "\n"
   ]
  },
  {
   "cell_type": "code",
   "execution_count": 12,
   "metadata": {},
   "outputs": [],
   "source": [
    "bajada = pd.read_csv('wish/summer-products-with-rating-and-performance_2020-08.csv', sep = ',')"
   ]
  },
  {
   "cell_type": "code",
   "execution_count": 14,
   "metadata": {},
   "outputs": [],
   "source": [
    "df = bajada.copy()"
   ]
  },
  {
   "cell_type": "code",
   "execution_count": 16,
   "metadata": {},
   "outputs": [
    {
     "data": {
      "text/html": [
       "<div>\n",
       "<style scoped>\n",
       "    .dataframe tbody tr th:only-of-type {\n",
       "        vertical-align: middle;\n",
       "    }\n",
       "\n",
       "    .dataframe tbody tr th {\n",
       "        vertical-align: top;\n",
       "    }\n",
       "\n",
       "    .dataframe thead th {\n",
       "        text-align: right;\n",
       "    }\n",
       "</style>\n",
       "<table border=\"1\" class=\"dataframe\">\n",
       "  <thead>\n",
       "    <tr style=\"text-align: right;\">\n",
       "      <th></th>\n",
       "      <th>title</th>\n",
       "      <th>title_orig</th>\n",
       "      <th>price</th>\n",
       "      <th>retail_price</th>\n",
       "      <th>currency_buyer</th>\n",
       "      <th>units_sold</th>\n",
       "      <th>uses_ad_boosts</th>\n",
       "      <th>rating</th>\n",
       "      <th>rating_count</th>\n",
       "      <th>rating_five_count</th>\n",
       "      <th>...</th>\n",
       "      <th>merchant_rating_count</th>\n",
       "      <th>merchant_rating</th>\n",
       "      <th>merchant_id</th>\n",
       "      <th>merchant_has_profile_picture</th>\n",
       "      <th>merchant_profile_picture</th>\n",
       "      <th>product_url</th>\n",
       "      <th>product_picture</th>\n",
       "      <th>product_id</th>\n",
       "      <th>theme</th>\n",
       "      <th>crawl_month</th>\n",
       "    </tr>\n",
       "  </thead>\n",
       "  <tbody>\n",
       "    <tr>\n",
       "      <th>0</th>\n",
       "      <td>2020 Summer Vintage Flamingo Print  Pajamas Se...</td>\n",
       "      <td>2020 Summer Vintage Flamingo Print  Pajamas Se...</td>\n",
       "      <td>16.0</td>\n",
       "      <td>14</td>\n",
       "      <td>EUR</td>\n",
       "      <td>100</td>\n",
       "      <td>0</td>\n",
       "      <td>3.76</td>\n",
       "      <td>54</td>\n",
       "      <td>26.0</td>\n",
       "      <td>...</td>\n",
       "      <td>568</td>\n",
       "      <td>4.128521</td>\n",
       "      <td>595097d6a26f6e070cb878d1</td>\n",
       "      <td>0</td>\n",
       "      <td>NaN</td>\n",
       "      <td>https://www.wish.com/c/5e9ae51d43d6a96e303acdb0</td>\n",
       "      <td>https://contestimg.wish.com/api/webimage/5e9ae...</td>\n",
       "      <td>5e9ae51d43d6a96e303acdb0</td>\n",
       "      <td>summer</td>\n",
       "      <td>2020-08</td>\n",
       "    </tr>\n",
       "  </tbody>\n",
       "</table>\n",
       "<p>1 rows × 43 columns</p>\n",
       "</div>"
      ],
      "text/plain": [
       "                                               title  \\\n",
       "0  2020 Summer Vintage Flamingo Print  Pajamas Se...   \n",
       "\n",
       "                                          title_orig  price  retail_price  \\\n",
       "0  2020 Summer Vintage Flamingo Print  Pajamas Se...   16.0            14   \n",
       "\n",
       "  currency_buyer  units_sold  uses_ad_boosts  rating  rating_count  \\\n",
       "0            EUR         100               0    3.76            54   \n",
       "\n",
       "   rating_five_count  ...  merchant_rating_count  merchant_rating  \\\n",
       "0               26.0  ...                    568         4.128521   \n",
       "\n",
       "                merchant_id  merchant_has_profile_picture  \\\n",
       "0  595097d6a26f6e070cb878d1                             0   \n",
       "\n",
       "   merchant_profile_picture                                      product_url  \\\n",
       "0                       NaN  https://www.wish.com/c/5e9ae51d43d6a96e303acdb0   \n",
       "\n",
       "                                     product_picture  \\\n",
       "0  https://contestimg.wish.com/api/webimage/5e9ae...   \n",
       "\n",
       "                 product_id   theme crawl_month  \n",
       "0  5e9ae51d43d6a96e303acdb0  summer     2020-08  \n",
       "\n",
       "[1 rows x 43 columns]"
      ]
     },
     "execution_count": 16,
     "metadata": {},
     "output_type": "execute_result"
    }
   ],
   "source": [
    "df.head(1)"
   ]
  },
  {
   "cell_type": "code",
   "execution_count": 17,
   "metadata": {},
   "outputs": [
    {
     "data": {
      "text/plain": [
       "['title',\n",
       " 'title_orig',\n",
       " 'price',\n",
       " 'retail_price',\n",
       " 'currency_buyer',\n",
       " 'units_sold',\n",
       " 'uses_ad_boosts',\n",
       " 'rating',\n",
       " 'rating_count',\n",
       " 'rating_five_count',\n",
       " 'rating_four_count',\n",
       " 'rating_three_count',\n",
       " 'rating_two_count',\n",
       " 'rating_one_count',\n",
       " 'badges_count',\n",
       " 'badge_local_product',\n",
       " 'badge_product_quality',\n",
       " 'badge_fast_shipping',\n",
       " 'tags',\n",
       " 'product_color',\n",
       " 'product_variation_size_id',\n",
       " 'product_variation_inventory',\n",
       " 'shipping_option_name',\n",
       " 'shipping_option_price',\n",
       " 'shipping_is_express',\n",
       " 'countries_shipped_to',\n",
       " 'inventory_total',\n",
       " 'has_urgency_banner',\n",
       " 'urgency_text',\n",
       " 'origin_country',\n",
       " 'merchant_title',\n",
       " 'merchant_name',\n",
       " 'merchant_info_subtitle',\n",
       " 'merchant_rating_count',\n",
       " 'merchant_rating',\n",
       " 'merchant_id',\n",
       " 'merchant_has_profile_picture',\n",
       " 'merchant_profile_picture',\n",
       " 'product_url',\n",
       " 'product_picture',\n",
       " 'product_id',\n",
       " 'theme',\n",
       " 'crawl_month']"
      ]
     },
     "execution_count": 17,
     "metadata": {},
     "output_type": "execute_result"
    }
   ],
   "source": [
    "list(df)"
   ]
  }
 ],
 "metadata": {
  "kernelspec": {
   "display_name": "Python 3",
   "language": "python",
   "name": "python3"
  },
  "language_info": {
   "codemirror_mode": {
    "name": "ipython",
    "version": 3
   },
   "file_extension": ".py",
   "mimetype": "text/x-python",
   "name": "python",
   "nbconvert_exporter": "python",
   "pygments_lexer": "ipython3",
   "version": "3.8.3"
  }
 },
 "nbformat": 4,
 "nbformat_minor": 4
}
